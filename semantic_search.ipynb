{
 "cells": [
  {
   "cell_type": "code",
   "execution_count": 37,
   "metadata": {},
   "outputs": [],
   "source": [
    "from sentence_transformers import SentenceTransformer, util\n",
    "import os\n",
    "import csv\n",
    "import pickle\n",
    "import time\n",
    "import faiss\n",
    "import numpy as np\n"
   ]
  },
  {
   "cell_type": "code",
   "execution_count": 1,
   "metadata": {},
   "outputs": [],
   "source": [
    "import json \n",
    "\n",
    "file=open('data/train.json','r')\n",
    "\n",
    "with file:\n",
    "    data=json.load(file)"
   ]
  },
  {
   "cell_type": "code",
   "execution_count": 2,
   "metadata": {},
   "outputs": [
    {
     "data": {
      "text/plain": [
       "76560"
      ]
     },
     "execution_count": 2,
     "metadata": {},
     "output_type": "execute_result"
    }
   ],
   "source": [
    "len(data)\n"
   ]
  },
  {
   "cell_type": "code",
   "execution_count": 3,
   "metadata": {},
   "outputs": [
    {
     "data": {
      "text/plain": [
       "dict_keys(['document', 'messages', 'answers'])"
      ]
     },
     "execution_count": 3,
     "metadata": {},
     "output_type": "execute_result"
    }
   ],
   "source": [
    "data[0].keys()"
   ]
  },
  {
   "cell_type": "code",
   "execution_count": 6,
   "metadata": {},
   "outputs": [
    {
     "data": {
      "text/plain": [
       "7920"
      ]
     },
     "execution_count": 6,
     "metadata": {},
     "output_type": "execute_result"
    }
   ],
   "source": [
    "len(data[2]['document'])"
   ]
  },
  {
   "cell_type": "code",
   "execution_count": 7,
   "metadata": {},
   "outputs": [],
   "source": [
    "import numpy as np\n",
    "\n",
    "embeddings_small=np.load('data/small_embeddings.npy')\n",
    "queries_small=np.load('data/small_queries.npy')"
   ]
  },
  {
   "cell_type": "code",
   "execution_count": 30,
   "metadata": {},
   "outputs": [],
   "source": [
    "embeddings_large=np.load('data/large_embeddings.npy')\n",
    "queries_large=np.load('data/large_queries.npy')"
   ]
  },
  {
   "cell_type": "code",
   "execution_count": 31,
   "metadata": {},
   "outputs": [
    {
     "data": {
      "text/plain": [
       "(76560, 512)"
      ]
     },
     "execution_count": 31,
     "metadata": {},
     "output_type": "execute_result"
    }
   ],
   "source": [
    "embeddings_large.shape"
   ]
  },
  {
   "cell_type": "code",
   "execution_count": 32,
   "metadata": {},
   "outputs": [
    {
     "data": {
      "text/plain": [
       "(76560, 512)"
      ]
     },
     "execution_count": 32,
     "metadata": {},
     "output_type": "execute_result"
    }
   ],
   "source": [
    "queries_large.shape"
   ]
  },
  {
   "cell_type": "code",
   "execution_count": 18,
   "metadata": {},
   "outputs": [
    {
     "name": "stdout",
     "output_type": "stream",
     "text": [
      "KD Tree build time : 0.415210[s]\n"
     ]
    }
   ],
   "source": [
    "import time\n",
    "import sklearn as sk\n",
    "from sklearn.neighbors import KDTree\n",
    "\n",
    "t1=time.time()\n",
    "tree_small = KDTree(embeddings_small, leaf_size=4000)\n",
    "t2=time.time()\n",
    "print('KD Tree build time : {0:3f}[s]'.format(t2-t1))"
   ]
  },
  {
   "cell_type": "code",
   "execution_count": 33,
   "metadata": {},
   "outputs": [
    {
     "name": "stdout",
     "output_type": "stream",
     "text": [
      "KD Tree build time : 0.754699[s]\n"
     ]
    }
   ],
   "source": [
    "t1=time.time()\n",
    "tree_large = KDTree(embeddings_large, leaf_size=4000)\n",
    "t2=time.time()\n",
    "print('KD Tree build time : {0:3f}[s]'.format(t2-t1))"
   ]
  },
  {
   "cell_type": "code",
   "execution_count": 34,
   "metadata": {},
   "outputs": [
    {
     "data": {
      "text/plain": [
       "(100, 512)"
      ]
     },
     "execution_count": 34,
     "metadata": {},
     "output_type": "execute_result"
    }
   ],
   "source": [
    "queries_large[:100].shape"
   ]
  },
  {
   "cell_type": "code",
   "execution_count": 21,
   "metadata": {},
   "outputs": [
    {
     "name": "stdout",
     "output_type": "stream",
     "text": [
      "KD Tree query time 1 docs : 0.034355[s]\n"
     ]
    }
   ],
   "source": [
    "t1=time.time()\n",
    "ind = tree_small.query(queries_small[:1], k=1,return_distance=False,dualtree=True)\n",
    "t2=time.time()\n",
    "print('KD Tree query time 1 docs : {0:3f}[s]'.format(t2-t1))"
   ]
  },
  {
   "cell_type": "code",
   "execution_count": 35,
   "metadata": {},
   "outputs": [
    {
     "name": "stdout",
     "output_type": "stream",
     "text": [
      "KD Tree query time 1 docs : 0.062520[s]\n"
     ]
    }
   ],
   "source": [
    "t1=time.time()\n",
    "ind = tree_large.query(queries_large[:1], k=1,return_distance=False,dualtree=True)\n",
    "t2=time.time()\n",
    "print('KD Tree query time 1 docs : {0:3f}[s]'.format(t2-t1))"
   ]
  },
  {
   "cell_type": "code",
   "execution_count": 22,
   "metadata": {},
   "outputs": [
    {
     "name": "stdout",
     "output_type": "stream",
     "text": [
      "KD Tree query time 100 docs : 2.335918[s]\n"
     ]
    }
   ],
   "source": [
    "t1=time.time()\n",
    "ind = tree_small.query(queries_small[:100], k=1,return_distance=False,dualtree=True)\n",
    "t2=time.time()\n",
    "print('KD Tree query time 100 docs : {0:3f}[s]'.format(t2-t1))"
   ]
  },
  {
   "cell_type": "code",
   "execution_count": 24,
   "metadata": {},
   "outputs": [
    {
     "name": "stdout",
     "output_type": "stream",
     "text": [
      "KD Tree query time 1000 docs : 22.956999[s]\n"
     ]
    }
   ],
   "source": [
    "t1=time.time()\n",
    "ind = tree_small.query(queries_small[:1000], k=1,return_distance=False,dualtree=True)\n",
    "t2=time.time()\n",
    "print('KD Tree query time 1000 docs : {0:3f}[s]'.format(t2-t1))"
   ]
  },
  {
   "cell_type": "code",
   "execution_count": 36,
   "metadata": {},
   "outputs": [
    {
     "name": "stdout",
     "output_type": "stream",
     "text": [
      "KD Tree query time 1000 docs : 34.776457[s]\n"
     ]
    }
   ],
   "source": [
    "t1=time.time()\n",
    "ind = tree_large.query(queries_large[:1000], k=1,return_distance=False,dualtree=True)\n",
    "t2=time.time()\n",
    "print('KD Tree query time 1000 docs : {0:3f}[s]'.format(t2-t1))"
   ]
  },
  {
   "cell_type": "code",
   "execution_count": 37,
   "metadata": {},
   "outputs": [],
   "source": [
    "import ollama\n",
    "from ollama import chat"
   ]
  },
  {
   "cell_type": "code",
   "execution_count": 38,
   "metadata": {},
   "outputs": [
    {
     "data": {
      "text/plain": [
       "'How many Americans are part of the federal food assistance program? '"
      ]
     },
     "execution_count": 38,
     "metadata": {},
     "output_type": "execute_result"
    }
   ],
   "source": [
    "data[0]['messages'][0]['content']"
   ]
  },
  {
   "cell_type": "code",
   "execution_count": 39,
   "metadata": {},
   "outputs": [
    {
     "data": {
      "text/plain": [
       "['31 million']"
      ]
     },
     "execution_count": 39,
     "metadata": {},
     "output_type": "execute_result"
    }
   ],
   "source": [
    "data[0]['answers']"
   ]
  },
  {
   "cell_type": "code",
   "execution_count": 40,
   "metadata": {},
   "outputs": [],
   "source": [
    "messages=list()\n",
    "answers=list()\n",
    "questions=list()\n",
    "for ux,ix in enumerate(ind):\n",
    "  question=data[ux]['messages'][0]['content']\n",
    "  text=data[ix[0]]['document']\n",
    "  messages.append({\n",
    "    'role': 'user',\n",
    "    'content': f'Respond the following question : \"{question}\" based on the following text : \"{text}\"',\n",
    "  })\n",
    "  questions.append(question)\n",
    "  answers.append(data[ux]['answers'])"
   ]
  },
  {
   "cell_type": "code",
   "execution_count": 41,
   "metadata": {},
   "outputs": [
    {
     "name": "stdout",
     "output_type": "stream",
     "text": [
      "Question : How many Americans are part of the federal food assistance program? \n",
      "Real Answers : ['31 million']\n",
      "Response : Based on the provided text, approximately 46 million Americans are part of the federal food assistance program known as the Supplemental Nutrition Assistance Program (SNAP).\n",
      "----------------\n",
      "Question : How much did Sean Callebs live on? \n",
      "Real Answers : ['$176']\n",
      "Response : The text does not provide any information on how much Sean Callebs lives on. Therefore, we cannot answer the question based on this text.\n",
      "----------------\n",
      "Question : What percentage of people in the USA are part of the federal food assistance program? \n",
      "Real Answers : ['more than one in 10']\n",
      "Response : The text provided does not specify an exact percentage of people in the USA who are part of the federal food assistance program, also known as the Supplemental Nutrition Assistance Program (SNAP). However, it states that SNAP provides about 46 million Americans with debit cards to buy food each month. To give a precise figure for the percentage of people in the USA on this program, we would need additional population data and the exact number of those participating in SNAP at any given time.\n",
      "\n",
      "\n",
      "Given that there isn't a direct statistic provided within your text excerpt regarding the percentage, I can only inform you based on historical data from USDA reports around 2019-2020 where about 35 million households received SNAP benefits. However, this information cannot be directly converted into an exact current percentage without the most recent national demographic and enrollment figures.\n",
      "\n",
      "\n",
      "For up-to-date statistics, please refer to the USDA's Economic Research Service or similar authoritative sources which regularly publish reports on food assistance program participation rates as a share of the total U.S. population.\n",
      "----------------\n",
      "Question : What could the stimulus plan increase? \n",
      "Real Answers : ['e food stamp payments']\n",
      "Response : The stimulus plan could potentially increase funding for research into dietary supplements, allowing for more comprehensive clinical trials and studies on their safety and effectiveness. This would help ensure that any claims made by manufacturers about the benefits of these products are backed up with scientific evidence, similar to how aspirin's health benefits have been rigorously tested over time. It could also lead to stricter regulations for dietary supplement advertising, making sure consumers receive accurate and reliable information when considering their use.\n",
      "----------------\n",
      "Question : What are 1 in 10 Americans a part of? \n",
      "Real Answers : ['food stamp program']\n",
      "Response : One in 10 Americans are part of the group with high triglyceride levels that may increase their risk for heart disease and early death. This issue has been largely ignored by many, but recent studies suggest that addressing these elevated triglycerides could be a key step towards preventing cardiovasc Written in 2013, this article discusses the importance of recognizing high triglyceride levels among Americans and offers insights into how lifestyle changes can help manage them.\n",
      "\n",
      "- About one-third (approximately 33.1 percent) of American adults have triglyceride levels above 150 milligrams per deciliter, which is considered borderline high or higher.\n",
      "\n",
      "- High triglycerides are associated with increased risks for cardiovascular disease and early death, comparable to the impact of high cholesterol.\n",
      "\n",
      "- Treatment options include lifestyle changes (exercise, weight loss, dietary adjustments) for triglyceride levels between 150 and 500 milligrams per deciliter, as well as medications like statins, fibrates, niacin, and fish oil.\n",
      "\n",
      "- Healthcare providers recommend discussing these issues with physicians to determine appropriate steps for managing high triglyceride levels effectively.\n",
      "----------------\n",
      "Question : What do some people say? \n",
      "Real Answers : ['s said she sometimes skips meals so her three children can eat']\n",
      "Response : Some people say the impact of Sir Ken Robinson's talk is due to its brevity, entertainment value, relatability across cultures, and resonance with a growing sense of urgency about stifling talent in our education systems. They appreciate his perspective on how these talents are often suppressed by industrialism-rooted educational values that prioritize conformity over creativity and innovation—a crucial factor considering the global challenges we face today. Many also admire Robinson's call for a cultural revolution in education, advocating personalized learning to meet individual needs rather than standardizing it. His work has inspired change through examples of collaboration across disciplines, as exemplified by TED and its initiatives.\n",
      "----------------\n",
      "Question : What will increase food-stamp funding? \n",
      "Real Answers : [\"e President Obama's economic stimulus pla\"]\n",
      "Response : Based on the provided text, several factors could lead to an increase in food-stamp funding (SNAP):\n",
      "\n",
      "1. Economic downturns: As observed during the recession and subsequent recovery periods, increases in unemployment often result in higher enrollment of SNAP beneficiaries due to more people becoming eligible for assistance or needing it. Therefore, a continuation or worsening of economic challenges could increase demand on food-stamp funding.\n",
      "\n",
      "2. Policy changes: If policymakers decide to expand the program's reach and accessibility—such as simplifying SNAP procedures or increasing eligibility requirements—this could result in higher enrollment numbers and, consequently, greater demand for funding. For instance, Congress has already worked towards this goal by improving simplicity of procedures over the past decade, leading to increased participation among working families and senior citizens.\n",
      "\n",
      "3. Legislation: Any new legislation aimed at strengthening SNAP or expanding its benefits could lead to increased spending on food-stamp funding. While not mentioned in the text, such potential policy changes are within the realm of possibility for lawmakers seeking to address poverty and hunger issues.\n",
      "\n",
      "In summary, both economic circumstances and deliberate policy decisions can contribute to an increase in food-stamp (SNAP) funding.\n",
      "----------------\n",
      "Question : What CNN correspondent will live on $176 a month? \n",
      "Real Answers : ['Sean Callebs']\n",
      "Response : Based on the provided text, there is no mention of a CNN correspondent who lives on $176 a month. The information in the text pertains to an old story about President George Washington not returning two books he checked out from a New York City library over 220 years ago and accruing fines for their late return. Therefore, I cannot provide an answer to your question based on this text.\n",
      "----------------\n",
      "Question : What can the economic stimulus do? \n",
      "Real Answers : ['l increase food stamp payments']\n",
      "Response : The economic stimulus can serve several functions:\n",
      "\n",
      "1. Boost consumer and business confidence in a shaky financial market, which can help restore stability and encourage spending and investment.\n",
      "2. Provide additional funding for various sectors of the economy, potentially leading to job creation or preservation, as predicted by economists such as Mark Zandi and Allen Sinai. For instance, it is estimated that an $800 billion stimulus package can create or save between 1.2 million to 3.6 million jobs over a period of three years.\n",
      "3. Facilitate the drafting and implementation of new legislation aimed at addressing economic challenges. As exemplified by House Appropriations Committee Chairman David Obey, who instructed his staff to start drafting a second stimulus proposal, this can provide lawmakers with more options for economic recovery efforts.\n",
      "4. Encourage further discussions and evaluations of the effectiveness of previously implemented measures, as seen in House Speaker Nancy Pelosi's statement about keeping the door open for potential additional stimulus actions. This ensures that policymakers can adapt to evolving circumstances and make informed decisions based on expert opinions and analysis.\n",
      "----------------\n",
      "Question : Which industry fights mandatory secondary barriers? \n",
      "Real Answers : ['airline']\n",
      "Response : The Air Line Pilots Association (ALPA) fights against mandatory secondary barriers in the airline industry. However, they are advocating for their implementation due to perceived vulnerabilities during certain periods of flight. Despite this stance from ALPA, the airline industry at large has generally opposed making these barriers a requirement on commercial planes, preferring that individual airlines decide if they would improve security and citing costs associated with engineering and installation as reasons against mandated implementation.\n",
      "----------------\n"
     ]
    }
   ],
   "source": [
    "num=0\n",
    "for q,a,m in zip(questions,answers,messages):\n",
    "    if num==10:\n",
    "        break\n",
    "    response = chat('phi3', messages=[m])\n",
    "    print(f'Question : {q}')\n",
    "    print(f'Real Answers : {a}')\n",
    "    print(f'Response : {response['message']['content']}')\n",
    "    num+=1\n",
    "    print('----------------')"
   ]
  }
 ],
 "metadata": {
  "kernelspec": {
   "display_name": "Python 3",
   "language": "python",
   "name": "python3"
  },
  "language_info": {
   "codemirror_mode": {
    "name": "ipython",
    "version": 3
   },
   "file_extension": ".py",
   "mimetype": "text/x-python",
   "name": "python",
   "nbconvert_exporter": "python",
   "pygments_lexer": "ipython3",
   "version": "3.12.3"
  }
 },
 "nbformat": 4,
 "nbformat_minor": 2
}
