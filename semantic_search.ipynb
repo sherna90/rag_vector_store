{
 "cells": [
  {
   "cell_type": "code",
   "execution_count": 37,
   "metadata": {},
   "outputs": [],
   "source": [
    "from sentence_transformers import SentenceTransformer, util\n",
    "import os\n",
    "import csv\n",
    "import pickle\n",
    "import time\n",
    "import faiss\n",
    "import numpy as np\n"
   ]
  },
  {
   "cell_type": "code",
   "execution_count": 38,
   "metadata": {},
   "outputs": [],
   "source": [
    "import json \n",
    "\n",
    "file=open('data/train.json','r')\n",
    "\n",
    "with file:\n",
    "    data=json.load(file)"
   ]
  },
  {
   "cell_type": "code",
   "execution_count": 3,
   "metadata": {},
   "outputs": [
    {
     "data": {
      "text/plain": [
       "76560"
      ]
     },
     "execution_count": 3,
     "metadata": {},
     "output_type": "execute_result"
    }
   ],
   "source": [
    "len(data)\n"
   ]
  },
  {
   "cell_type": "code",
   "execution_count": 4,
   "metadata": {},
   "outputs": [],
   "source": [
    "import numpy as np\n",
    "\n",
    "embeddings_small=np.load('data/small_embeddings.npy')\n",
    "queries_small=np.load('data/small_queries.npy')"
   ]
  },
  {
   "cell_type": "code",
   "execution_count": 5,
   "metadata": {},
   "outputs": [
    {
     "data": {
      "text/plain": [
       "(76560, 384)"
      ]
     },
     "execution_count": 5,
     "metadata": {},
     "output_type": "execute_result"
    }
   ],
   "source": [
    "queries_small.shape"
   ]
  },
  {
   "cell_type": "code",
   "execution_count": 6,
   "metadata": {},
   "outputs": [],
   "source": [
    "import sklearn as sk\n",
    "from sklearn.neighbors import KDTree\n",
    "\n",
    "tree = KDTree(embeddings_small, leaf_size=40)"
   ]
  },
  {
   "cell_type": "code",
   "execution_count": 7,
   "metadata": {},
   "outputs": [
    {
     "data": {
      "text/plain": [
       "(100, 384)"
      ]
     },
     "execution_count": 7,
     "metadata": {},
     "output_type": "execute_result"
    }
   ],
   "source": [
    "queries_small[:100].shape"
   ]
  },
  {
   "cell_type": "code",
   "execution_count": 8,
   "metadata": {},
   "outputs": [],
   "source": [
    "ind = tree.query(queries_small[:100], k=1,return_distance=False,dualtree=True)"
   ]
  },
  {
   "cell_type": "code",
   "execution_count": 39,
   "metadata": {},
   "outputs": [],
   "source": [
    "import ollama\n",
    "from ollama import chat"
   ]
  },
  {
   "cell_type": "code",
   "execution_count": 75,
   "metadata": {},
   "outputs": [
    {
     "data": {
      "text/plain": [
       "'How many Americans are part of the federal food assistance program? '"
      ]
     },
     "execution_count": 75,
     "metadata": {},
     "output_type": "execute_result"
    }
   ],
   "source": [
    "data[0]['messages'][0]['content']"
   ]
  },
  {
   "cell_type": "code",
   "execution_count": 76,
   "metadata": {},
   "outputs": [
    {
     "data": {
      "text/plain": [
       "['31 million']"
      ]
     },
     "execution_count": 76,
     "metadata": {},
     "output_type": "execute_result"
    }
   ],
   "source": [
    "data[0]['answers']"
   ]
  },
  {
   "cell_type": "code",
   "execution_count": 77,
   "metadata": {},
   "outputs": [],
   "source": [
    "messages=list()\n",
    "answers=list()\n",
    "questions=list()\n",
    "for ux,ix in enumerate(ind):\n",
    "  question=data[ux]['messages'][0]['content']\n",
    "  text=data[ix[0]]['document']\n",
    "  messages.append({\n",
    "    'role': 'user',\n",
    "    'content': f'Respond the following question : \"{question}\" based on the following text : \"{text}\"',\n",
    "  })\n",
    "  questions.append(question)\n",
    "  answers.append(data[ux]['answers'])"
   ]
  },
  {
   "cell_type": "code",
   "execution_count": 78,
   "metadata": {},
   "outputs": [
    {
     "name": "stdout",
     "output_type": "stream",
     "text": [
      "Question : How many Americans are part of the federal food assistance program? \n",
      "Real Answers : ['31 million']\n",
      "Response : The text provided does not specify the exact number of Americans who are part of the federal food assistance program. However, it discusses an increase in participation within the National School Lunch Program due to economic challenges. For precise statistics on Americans involved in the broader federal food assistance programs such as SNAP (Supplemental Nutrition Assistance Program), additional data would need to be consulted.\n",
      "----------------\n",
      "Question : How much did Sean Callebs live on? \n",
      "Real Answers : ['$176']\n",
      "Response : The text does not provide information on how much Sean Callebs, or Regis Philbin lived on. The text focuses on the retirement announcement from \"Live! With Regis & Kelly\" co-host Regis Philbin, his jokes about finding a new young male co-host for Kelly Ripa and other related details.\n",
      "----------------\n",
      "Question : What percentage of people in the USA are part of the federal food assistance program? \n",
      "Real Answers : ['more than one in 10']\n",
      "Response : I'm sorry, but I can't provide an exact percentage of people in the USA who are part of the federal food assistance program based on the provided text. The given information primarily focuses on participation rates in school lunch programs during a specific period (2008-09) and doesn't directly address the overall statistics regarding the U.S. population being enrolled in all federal food assistance programs, such as SNAP or WIC.\n",
      "\n",
      "However, to give you an idea of the reach of these programs based on separate data from relevant sources like the USDA (United States Department of Agriculture), I can tell you that millions of Americans benefit from these types of federal assistance each year. For instance, in 2019, approximately 38.6 million people received SNAP benefits as reported by the USDA's Economic Research Service.\n",
      "\n",
      "For an accurate percentage and more comprehensive data regarding participation rates across all federal food assistance programs, you might want to refer directly to reports from the U.S. Department of Agriculture or other government agencies that handle these statistics.\n",
      "----------------\n",
      "Question : What could the stimulus plan increase? \n",
      "Real Answers : ['e food stamp payments']\n",
      "Response : The stimulus plan could potentially increase several areas including tax relief directly to middle-class taxpayers and small businesses, boost job creation, lift consumer confidence, provide funding for infrastructure projects (if these proposals prove capable of spurring immediate and lasting growth), and ensure transparency by posting all contents online for public review. However, it's important to note that any new spending should be introduced with the clear understanding that it is temporary rather than permanent due to the bleak long-term budget outlook.\n",
      "----------------\n",
      "Question : What are 1 in 10 Americans a part of? \n",
      "Real Answers : ['food stamp program']\n",
      "Response : 1 in 10 Americans are part of the largest minority group known as Hispanics/Latinos. However, this designation is often complex due to varying cultural identities and experiences within this broad category. These individuals may identify themselves based on their specific country of origin or more general terms like Latino or Hispanic, though many people do not strictly associate with these labels. It's also important to note that while there are shared experiences among many Latinos in the U.S., such as family emphasis and spirituality, this group is diverse and cannot be homogenized into a singular identity.\n",
      "----------------\n",
      "Question : What do some people say? \n",
      "Real Answers : ['s said she sometimes skips meals so her three children can eat']\n",
      "Response : 1. \"Obama's idea of defense has been to stick his head in the sand & wave the white flag rather than fight for liberty & wave the US flag.\" - makeCAspecial\n",
      "\n",
      "2. \"Barack Obama's facebook status has changed to \"its complicated\" with America. He is still looking for \"whatever I can get.\"\" - Gurubanks\n",
      "\n",
      "3. \"Yes, Mr. President, Strength of American people resides in us. Stop trying 2 take that from us. You don't know better #stateoftheunion #SOTU\" - Halley5\n",
      "\n",
      "4. \"The only way Obama know how to create Jobs is to nationalize something and have someone else pay for it.\" - RightWingArtist\n",
      "\n",
      "5. \"Jobs bill, it better be like oh building up our infrastructure, jobs that do more than spend money for the sake of spending\" - Josh Tway on Facebook\n",
      "\n",
      "6. \"#SOTU Pres. Spend-A-Buck wants to convince us he's fiscally responsible. Knew it, not buying it.\" - Dean_L\n",
      "\n",
      "7. \"Obama just set the tone 'never been more hopeful.' Really great. #sotu\" - zandrazuno\n",
      "\n",
      "8. \"Despite all the gloom & doom, Obama's soundtrack would be Tom Petty's 'I Won't Back Down'\" - jcohntnr\n",
      "\n",
      "9. \"Obama sounds like Otter in Animal House. Well we're not going to sit here & let you bad mouth the United States of America.\" - JBFlint\n",
      "\n",
      "10. \"#SOTU Blame Wall Street in one clause, & the next decry partisanship and division. Er, yeah.\" - edmorrissey\n",
      "\n",
      "11. \"In one breath, 9 for a national energy tax that will send jobs overseas\" - Rep. Dan Burton (R-Indiana)\n",
      "\n",
      "12. \"Listening to Obama talk about cutting spending is like listening to a fat kid talking about dieting while eating cake #sotu\" - franklazaro\n",
      "\n",
      "13. \"Pres Obama was talking spending freeze earlier today but STOU is full of billions and billions of new spending. Can you say inconsistent?\" - Twitter user PaulKohls\n",
      "\n",
      "14. \"AND.... Bush's Fault. Again. Grow up. You CAMPAIGNED HARD for the job. Man, I want to put him in a time out for whining.\" - snarkandboobs\n",
      "\n",
      "15. \"Can't he just say, 'I blame Bush for everything' and cut out like 45 min of this thing?\" - Joshua Baron on Facebook\n",
      "\n",
      "16. \"I only hope my Republican colleagues use this moment as an opportunity to re-think their strategy of mindless obstructionism.\" - Dominique Hazzard on Facebook\n",
      "----------------\n",
      "Question : What will increase food-stamp funding? \n",
      "Real Answers : [\"e President Obama's economic stimulus pla\"]\n",
      "Response : Increasing food-stamp funding can be achieved through several avenues: 1) Advocating for more robust economic growth, which naturally reduces the need for SNAP as people find employment and their financial situations improve. This involves comprehensive policies that stimulate job creation and provide opportunities across various sectors of the economy. 2) Reforming public assistance programs like Temporary Assistance for Needy Families (TANF) and General Assistance to make them more effective in responding to economic downtines, thereby reducing reliance on SNAP. This includes ensuring that these programs are adequately funded and their procedures are simplified so they can reach eligible households efficiently. 3) Reassessing the policies surrounding unemployment insurance could help reduce the number of individuals who need to rely on food stamps during periods of long-term joblessness, though this requires a broader strategy addressing labor market conditions and skills development. Lastly, political leaders can work collaboratively across party lines, as seen in past efforts to simplify SNAP procedures, to ensure that the program remains responsive to economic changes without contributing to long-term fiscal problems.\n",
      "----------------\n",
      "Question : What CNN correspondent will live on $176 a month? \n",
      "Real Answers : ['Sean Callebs']\n",
      "Response : I cannot provide information on specific CNN correspondents' salaries as it involves personal financial details which are not publicly disclosed. However, I can tell you that news correspondents often earn varying salaries based on their experience, location of reporting (domestic or international), and whether they are staff or freelancers. CNN does not typically disclose individual employee wages.\n",
      "----------------\n",
      "Question : What can the economic stimulus do? \n",
      "Real Answers : ['l increase food stamp payments']\n",
      "Response : The economic stimulus can do several things according to the provided text: \n",
      "\n",
      "1. It can be used wisely as Republicans believe it should be with a focus on reducing waste and preventing special-interest driven giveaways, which could cost at least $825 billion.\n",
      "2. The stimulus plan, along with any other future economic rescue measures, should be limited in scope and transparent to avoid potential risks such as rampant inflation or making the dollar weaker for American consumers.\n",
      "3. A key goal of the stimulus is to strengthen businesses, boost job creation, and lift consumer confidence by providing meaningful tax relief directly to middle-class taxpayers and small businesses. \n",
      "4. The text also suggests that additional spending on infrastructure or other initiatives should be subjected to rigorous scrutiny and transparency checks to ensure efficient use of funds and prevent them from becoming permanent rather than temporary measures. Overall, the stimulus is intended to provide a pathway for economic growth while mitigating risks associated with high borrowing costs and unchecked spending.\n",
      "----------------\n",
      "Question : Which industry fights mandatory secondary barriers? \n",
      "Real Answers : ['airline']\n",
      "Response : The Air Line Pilots Association (ALPA) fights against mandatory secondary barriers in the airline industry. However, ALPA has been advocating strongly for their implementation and believes they are cost-effective and significantly increase cockpit security. The push from pilots to install secondary barriers is due to vulnerabilities exposed during times when pilots leave the cockpit. While this contradicts with some airline industry views, ALPA stands firm on its position advocating for enhanced safety measures like these barriers.\n",
      "----------------\n",
      "Question : Do pilots support the mandation of secondary cockpit barriers? \n",
      "Real Answers : ['yes,']\n",
      "Response : Based on the given text, many airline pilots do support the mandation of secondary cockpit barriers. They believe these additional safety measures would provide an extra layer of protection during vulnerable moments when the main cockpit door is open, such as when pilots are using the lavatory or changing crews. According to Capt. Bob Hesselbein from the Air Line Pilots Association, implementing secondary barriers could be a cost-effective measure and would always be there for added security. However, despite this support from pilots, airlines have expressed concerns over costs associated with retrofitting aircrafts with these barriers. This information suggests that while there is pilot support, the mandate of secondary cockpit barriers remains subject to further discussion and policy decisions by relevant authorities.\n",
      "----------------\n",
      "Question : What does the TSA recommend? \n",
      "Real Answers : ['against mandating secondary barriers,']\n",
      "Response : The TSA does not officially recommend a specific approach but rather implements guidelines based on perceived threats. According to the provided text, they have announced new \"enhanced 'guidelines'\" requiring passengers from 14 countries deemed as security risks by the U.S., which include Afghanistan through Yemen, undergo more rigorous screening when flying into the United States. This is done in response to specific events and aims to enhance airline security but does not explicitly endorse or recommend \"racial profiling\" practices. However, it's important to note that such policies have raised concerns regarding civil rights and their effectiveness compared to other methods of screening based on behavior rather than characteristics like race, ethnicity, religion, or nationality.\n",
      "----------------\n",
      "Question : Who did the pilots praise? \n",
      "Real Answers : ['the hardened cockpit doors mandated after 9/11, saying they have done as much as anything to protect aircraft from terrorist assaults.']\n",
      "Response : The pilots praised CSG (Australian information technology company), according to their statement saying, \"We would like to congratulate the pilot following all emergency landing and evacuation procedures and his very professional handling of the situation.\"\n",
      "----------------\n",
      "Question : How many mandating secondary barriers do we need? \n",
      "Real Answers : ['two']\n",
      "Response : Based on the provided text, there isn't an explicit number of mandating secondary barriers mentioned. However, it discusses the Air Line Pilots Association (ALPA) publishing a position paper calling for the U.S. and Canadian governments to require secondary flight deck barriers on all airliners by January 1, 2010. The purpose of these barriers is to delay any attacker trying to access the cockpit by at least five seconds, providing pilots more time to retreat to safety. Therefore, it would be logical to assume that a minimum number of mandating secondary barriers would be needed for all commercial planes in the country, but the exact number isn't specified in this text. For optimal security measures, every plane should ideally have these secondary barriers installed. This interpretation aligns with ALPA's recommendation and emphasizes comprehensive safety rather than specifying a specific count of barriers per aircraft.\n",
      "----------------\n",
      "Question : What do many pilots support? \n",
      "Real Answers : ['secondary barriers']\n",
      "Response : Many pilots support safety measures, emergency management, airmanship and professionalism in aviation. This is demonstrated by Chesley B. \"Sully\" Sullenberger III's actions on Flight 1549, where he skillfully guided the jet to land on the Hudson River after both engines failed due to bird strikes, ensuring all passengers survived. His career and achievements highlight his dedication to safety and preparedness in aviation.\n",
      "----------------\n",
      "Question : Who recommends against mandating secondary barriers? \n",
      "Real Answers : ['airline industry']\n",
      "Response : The text does not explicitly mention who recommends against mandating secondary barriers. However, it does state that The Transportation Security Administration (TSA) recommended against mandating secondary barriers due to \"the costs of engineering and installation that would be incurred by the airlines to retrofit\" aircraft, considering the economic fragility of the industry caused by increasing costs, including persistently rising fuel prices. This recommendation also comes from The Air Transport Association, which represents major airlines, suggesting they are against mandating secondary barriers due to effective security measures already being in place and arguing that further mandates should not be implemented without proper risk analysis.\n",
      "----------------\n",
      "Question : Which team is the dominant one? \n",
      "Real Answers : ['Red Bull']\n",
      "Response : Paraguay is emerging as a dominant force in the world of football, particularly with their performance in the World Cup qualifiers. Historically underrated compared to powerhouses like Brazil and Argentina, Paraguay has now shown remarkable progress under Argentine coach Gerardo \"Tata\" Martino since 2006. Their tactical shift towards a more attack-oriented approach, combined with key players who have gained experience in top European leagues such as Salvador Cabanas of Club America and Nelson Valdez from Borussia Dortmund, has allowed them to not only maintain their strong defensive lineup but also add flair up front. This evolution makes Paraguay a serious contender for the 2010 World Cup Finals. If they continue this form in the qualifiers, they have the potential to top their group and challenge the status quo of South American football dominance.\n",
      "----------------\n",
      "Question : What number is this world title for him? \n",
      "Real Answers : ['eighth']\n",
      "Response : The world number for Roger Federer, after equalling Pete Sampras' record of 14 grand slam singles titles, would be World Number One. However, specific current rankings are not provided in the text and can fluctuate over time based on players' performances. As of my last update, Roger Federer was ranked within the top 20 at various points but his exact world ranking could vary post this information release date. For real-time updates, refer to the latest WTA or ATP rankings.\n",
      "----------------\n",
      "Question : What is Sebastian Vettel proud of? \n",
      "Real Answers : ['Red Bull team']\n",
      "Response : Sebastian Vettel might be proud of becoming the youngest double world champion in Formula One's history books. He blazed a trail by achieving this feat at an early age, which is no small accomplishment considering the level of competition and skill required to reach such heights in motorsports.\n",
      "----------------\n",
      "Question : Who is the F1 champion? \n",
      "Real Answers : ['Vettel']\n",
      "Response : Based on the given text, Sebastian Vettel is the F1 champion in contention for becoming the youngest double world champion. However, as of the information provided, he has not yet secured his second championship title. The first championship was clinched at the last race of 2010. As of the Singapore Grand Prix discussed, Fernando Alonso could potentially delay Vettel's celebration if he finishes fourth in the upcoming race.\n",
      "----------------\n",
      "Question : Who won an eighth title for dominant Citroen team? \n",
      "Real Answers : ['Sebastian Loeb']\n",
      "Response : The text does not mention any Citroen team winning an eighth title. It discusses Marin Cilic's victory at the Monte Carlo Rolex Masters and his progress in the tournament along with other participants. There is no information provided about a Citroen team or their achievements in this context.\n",
      "----------------\n",
      "Question : How many successive title have been won? \n",
      "Real Answers : ['eighth consecutive time.']\n",
      "Response : Sebastian Vettel has won two successive titles in Formula One.\n",
      "----------------\n",
      "Question : When is it going to arrive? \n",
      "Real Answers : ['Sunday morning,']\n",
      "Response : Based on the information provided, it seems that while there is no specific date mentioned for when all delayed packages will be delivered, UPS aims to expedite delivery as soon as possible. Given the circumstances and their statement regarding prioritizing delivery efforts despite weather challenges, you may expect to receive your package shortly after this week's snowstorm clears up in Colorado. However, without an exact date or time frame provided, it is best to keep checking with UPS for updates on when your particular package might arrive.\n",
      "----------------\n",
      "Question : What is expected to dump three to five inches of rain? \n",
      "Real Answers : ['Tropical storm Cristobal']\n",
      "Response : The weather forecast indicates that three to five inches of rain are expected to fall in certain regions across the Northeast and mid-Atlantic area. This rainfall, following a period of high winds reaching hurricane force in some areas, could lead to flooding and significant travel delays, particularly as it impacts coastal areas and continues into Monday. The ground conditions have been further compromised by the heavy snowfall this winter, which has increased the risk of tree fallings and utility pole collapses that are affecting power outages for numerous homes in states like New York City, Westchester County, New Jersey, Connecticut, and Pennsylvania.\n",
      "----------------\n",
      "Question : What evolved Saturday from a tropical depression on Friday? \n",
      "Real Answers : ['Storm Cristobal']\n",
      "Response : Saturday evolved from a tropical depression on Friday when the Kern River bed, already dry due to drought-like conditions in Bakersfield, California, underwent dramatic changes resulting in what is often referred to as \"black blizzards.\" This event was characterized by fierce winds and swarms of grasshoppers and crows over a barren farm.\n",
      "----------------\n",
      "Question : What is the storms name? \n",
      "Real Answers : ['Cristobal']\n",
      "Response : The storm's name mentioned in the text is Typhoon Melor.\n",
      "----------------\n",
      "Question : What is \"very close\" to North Carolina coast? \n",
      "Real Answers : ['Tropical storm Cristobal']\n",
      "Response : \"Very close\" to the North Carolina coast refers to Tropical Storm Cristobal, which was forecasted to move \"parallel and very close\" to the state's shores. According to the provided text, as of 11 p.m. ET Saturday, the center of the storm was about 45 miles southeast of Cape Fear, North Carolina, and approximately 170 miles southwest of Cape Hatteras, North Carolina. The National Hurricane Center (NHC) indicated that Cristobal would remain near or parallel to the coast for the following day or so, potentially affecting up to three to five inches of rain along the Carolina coast during the weekend.\n",
      "----------------\n",
      "Question : Where is Tropical Storm Cristobal? \n",
      "Real Answers : ['off the coast of the Carolinas.']\n",
      "Response : As of the provided information, Tropical Storm Cristobal is moving \"parallel and very close\" to the North Carolina coast on Sunday morning. The center of the storm was approximately 45 miles southeast of Cape Fear, North Carolina, and about 170 miles southwest of Cape Hatteras, North Carolina as of 11 p.m. ET Saturday. Cristobal is expected to move in this manner for the next day or so without making landfall along the eastern U.S. shores. The storm has maximum sustained winds around 45 mph and some higher gusts, with a forecast of between three and five inches of rain predicted along the Carolina coast over the weekend. It is anticipated to become absorbed ahead of an approaching cold front by late Monday according to the NHC.\n",
      "----------------\n",
      "Question : Where is the storm close to? \n",
      "Real Answers : ['North Carolina coast']\n",
      "Response : The storm is close to Los Angeles, California, where heavy rain has caused water-logged conditions and mudslides. Residents have been advised to evacuate due to the threat posed by these natural events. The city experienced significant rainfall as part of a series that started on Monday, with some areas receiving more than 12 inches of rain this week. The storm is also affecting Southern California and parts of central Arizona and southern Utah, where flash flood watches are in effect.\n",
      "----------------\n"
     ]
    }
   ],
   "source": [
    "for q,a,m in zip(questions,answers,messages):\n",
    "    response = chat('phi3', messages=[m])\n",
    "    print(f'Question : {q}')\n",
    "    print(f'Real Answers : {a}')\n",
    "    print(f'Response : {response['message']['content']}')\n",
    "    print('----------------')"
   ]
  }
 ],
 "metadata": {
  "kernelspec": {
   "display_name": "Python 3",
   "language": "python",
   "name": "python3"
  },
  "language_info": {
   "codemirror_mode": {
    "name": "ipython",
    "version": 3
   },
   "file_extension": ".py",
   "mimetype": "text/x-python",
   "name": "python",
   "nbconvert_exporter": "python",
   "pygments_lexer": "ipython3",
   "version": "3.12.3"
  }
 },
 "nbformat": 4,
 "nbformat_minor": 2
}
