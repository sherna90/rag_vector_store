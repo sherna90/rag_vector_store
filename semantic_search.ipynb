{
 "cells": [
  {
   "cell_type": "code",
   "execution_count": 37,
   "metadata": {},
   "outputs": [],
   "source": [
    "from sentence_transformers import SentenceTransformer, util\n",
    "import os\n",
    "import csv\n",
    "import pickle\n",
    "import time\n",
    "import faiss\n",
    "import numpy as np\n"
   ]
  },
  {
   "cell_type": "code",
   "execution_count": 1,
   "metadata": {},
   "outputs": [],
   "source": [
    "import json \n",
    "\n",
    "file=open('data/train.json','r')\n",
    "\n",
    "with file:\n",
    "    data=json.load(file)"
   ]
  },
  {
   "cell_type": "code",
   "execution_count": 2,
   "metadata": {},
   "outputs": [
    {
     "data": {
      "text/plain": [
       "76560"
      ]
     },
     "execution_count": 2,
     "metadata": {},
     "output_type": "execute_result"
    }
   ],
   "source": [
    "len(data)\n"
   ]
  },
  {
   "cell_type": "code",
   "execution_count": 3,
   "metadata": {},
   "outputs": [
    {
     "data": {
      "text/plain": [
       "dict_keys(['document', 'messages', 'answers'])"
      ]
     },
     "execution_count": 3,
     "metadata": {},
     "output_type": "execute_result"
    }
   ],
   "source": [
    "data[0].keys()"
   ]
  },
  {
   "cell_type": "code",
   "execution_count": 6,
   "metadata": {},
   "outputs": [
    {
     "data": {
      "text/plain": [
       "7920"
      ]
     },
     "execution_count": 6,
     "metadata": {},
     "output_type": "execute_result"
    }
   ],
   "source": [
    "len(data[2]['document'])"
   ]
  },
  {
   "cell_type": "code",
   "execution_count": 7,
   "metadata": {},
   "outputs": [],
   "source": [
    "import numpy as np\n",
    "\n",
    "embeddings_small=np.load('data/small_embeddings.npy')\n",
    "queries_small=np.load('data/small_queries.npy')"
   ]
  },
  {
   "cell_type": "code",
   "execution_count": 30,
   "metadata": {},
   "outputs": [],
   "source": [
    "embeddings_large=np.load('data/large_embeddings.npy')\n",
    "queries_large=np.load('data/large_queries.npy')"
   ]
  },
  {
   "cell_type": "code",
   "execution_count": 31,
   "metadata": {},
   "outputs": [
    {
     "data": {
      "text/plain": [
       "(76560, 512)"
      ]
     },
     "execution_count": 31,
     "metadata": {},
     "output_type": "execute_result"
    }
   ],
   "source": [
    "embeddings_large.shape"
   ]
  },
  {
   "cell_type": "code",
   "execution_count": 32,
   "metadata": {},
   "outputs": [
    {
     "data": {
      "text/plain": [
       "(76560, 512)"
      ]
     },
     "execution_count": 32,
     "metadata": {},
     "output_type": "execute_result"
    }
   ],
   "source": [
    "queries_large.shape"
   ]
  },
  {
   "cell_type": "code",
   "execution_count": 18,
   "metadata": {},
   "outputs": [
    {
     "name": "stdout",
     "output_type": "stream",
     "text": [
      "KD Tree build time : 0.415210[s]\n"
     ]
    }
   ],
   "source": [
    "import time\n",
    "import sklearn as sk\n",
    "from sklearn.neighbors import KDTree\n",
    "\n",
    "t1=time.time()\n",
    "tree_small = KDTree(embeddings_small, leaf_size=4000)\n",
    "t2=time.time()\n",
    "print('KD Tree build time : {0:3f}[s]'.format(t2-t1))"
   ]
  },
  {
   "cell_type": "code",
   "execution_count": 33,
   "metadata": {},
   "outputs": [
    {
     "name": "stdout",
     "output_type": "stream",
     "text": [
      "KD Tree build time : 0.754699[s]\n"
     ]
    }
   ],
   "source": [
    "t1=time.time()\n",
    "tree_large = KDTree(embeddings_large, leaf_size=4000)\n",
    "t2=time.time()\n",
    "print('KD Tree build time : {0:3f}[s]'.format(t2-t1))"
   ]
  },
  {
   "cell_type": "code",
   "execution_count": 34,
   "metadata": {},
   "outputs": [
    {
     "data": {
      "text/plain": [
       "(100, 512)"
      ]
     },
     "execution_count": 34,
     "metadata": {},
     "output_type": "execute_result"
    }
   ],
   "source": [
    "queries_large[:100].shape"
   ]
  },
  {
   "cell_type": "code",
   "execution_count": 21,
   "metadata": {},
   "outputs": [
    {
     "name": "stdout",
     "output_type": "stream",
     "text": [
      "KD Tree query time 1 docs : 0.034355[s]\n"
     ]
    }
   ],
   "source": [
    "t1=time.time()\n",
    "ind = tree_small.query(queries_small[:1], k=1,return_distance=False,dualtree=True)\n",
    "t2=time.time()\n",
    "print('KD Tree query time 1 docs : {0:3f}[s]'.format(t2-t1))"
   ]
  },
  {
   "cell_type": "code",
   "execution_count": 35,
   "metadata": {},
   "outputs": [
    {
     "name": "stdout",
     "output_type": "stream",
     "text": [
      "KD Tree query time 1 docs : 0.062520[s]\n"
     ]
    }
   ],
   "source": [
    "t1=time.time()\n",
    "ind = tree_large.query(queries_large[:1], k=1,return_distance=False,dualtree=True)\n",
    "t2=time.time()\n",
    "print('KD Tree query time 1 docs : {0:3f}[s]'.format(t2-t1))"
   ]
  },
  {
   "cell_type": "code",
   "execution_count": 22,
   "metadata": {},
   "outputs": [
    {
     "name": "stdout",
     "output_type": "stream",
     "text": [
      "KD Tree query time 100 docs : 2.335918[s]\n"
     ]
    }
   ],
   "source": [
    "t1=time.time()\n",
    "ind = tree_small.query(queries_small[:100], k=1,return_distance=False,dualtree=True)\n",
    "t2=time.time()\n",
    "print('KD Tree query time 100 docs : {0:3f}[s]'.format(t2-t1))"
   ]
  },
  {
   "cell_type": "code",
   "execution_count": 24,
   "metadata": {},
   "outputs": [
    {
     "name": "stdout",
     "output_type": "stream",
     "text": [
      "KD Tree query time 1000 docs : 22.956999[s]\n"
     ]
    }
   ],
   "source": [
    "t1=time.time()\n",
    "ind = tree_small.query(queries_small[:1000], k=1,return_distance=False,dualtree=True)\n",
    "t2=time.time()\n",
    "print('KD Tree query time 1000 docs : {0:3f}[s]'.format(t2-t1))"
   ]
  },
  {
   "cell_type": "code",
   "execution_count": 36,
   "metadata": {},
   "outputs": [
    {
     "name": "stdout",
     "output_type": "stream",
     "text": [
      "KD Tree query time 1000 docs : 34.776457[s]\n"
     ]
    }
   ],
   "source": [
    "t1=time.time()\n",
    "ind = tree_large.query(queries_large[:1000], k=1,return_distance=False,dualtree=True)\n",
    "t2=time.time()\n",
    "print('KD Tree query time 1000 docs : {0:3f}[s]'.format(t2-t1))"
   ]
  },
  {
   "cell_type": "code",
   "execution_count": 37,
   "metadata": {},
   "outputs": [],
   "source": [
    "import ollama\n",
    "from ollama import chat"
   ]
  },
  {
   "cell_type": "code",
   "execution_count": 38,
   "metadata": {},
   "outputs": [
    {
     "data": {
      "text/plain": [
       "'How many Americans are part of the federal food assistance program? '"
      ]
     },
     "execution_count": 38,
     "metadata": {},
     "output_type": "execute_result"
    }
   ],
   "source": [
    "data[0]['messages'][0]['content']"
   ]
  },
  {
   "cell_type": "code",
   "execution_count": 39,
   "metadata": {},
   "outputs": [
    {
     "data": {
      "text/plain": [
       "['31 million']"
      ]
     },
     "execution_count": 39,
     "metadata": {},
     "output_type": "execute_result"
    }
   ],
   "source": [
    "data[0]['answers']"
   ]
  },
  {
   "cell_type": "code",
   "execution_count": 40,
   "metadata": {},
   "outputs": [],
   "source": [
    "messages=list()\n",
    "answers=list()\n",
    "questions=list()\n",
    "for ux,ix in enumerate(ind):\n",
    "  question=data[ux]['messages'][0]['content']\n",
    "  text=data[ix[0]]['document']\n",
    "  messages.append({\n",
    "    'role': 'user',\n",
    "    'content': f'Respond the following question : \"{question}\" based on the following text : \"{text}\"',\n",
    "  })\n",
    "  questions.append(question)\n",
    "  answers.append(data[ux]['answers'])"
   ]
  },
  {
   "cell_type": "code",
   "execution_count": 42,
   "metadata": {},
   "outputs": [
    {
     "name": "stdout",
     "output_type": "stream",
     "text": [
      "Question : How many Americans are part of the federal food assistance program? \n",
      "Real Answers : ['31 million']\n",
      "Response : According to the text, about 46 million Americans are part of the federal food assistance program, known as the Supplemental Nutrition Assistance Program (SNAP). This includes approximately 22 million low-income households with debit cards to buy food each month.\n",
      "----------------\n",
      "Question : How much did Sean Callebs live on? \n",
      "Real Answers : ['$176']\n",
      "Response : There is no information about Sean Callebs living on in the provided text. The article only mentions Josh Faiola and his new living arrangement at the Belvedere of Westlake assisted living facility, where he is living with 55-year-old roommates.\n",
      "----------------\n",
      "Question : What percentage of people in the USA are part of the federal food assistance program? \n",
      "Real Answers : ['more than one in 10']\n",
      "Response : According to the text, about 46 million Americans (approximately 14% of the US population) participate in the federal food assistance program, officially known as the Supplemental Nutrition Assistance Program (SNAP). This translates to about 22 million low-income households.\n",
      "----------------\n",
      "Question : What could the stimulus plan increase? \n",
      "Real Answers : ['e food stamp payments']\n",
      "Response : According to the text, the stimulus plan could increase:\n",
      "\n",
      "* Regulation of dietary supplements: The article suggests that applying the same rules governing aspirin advertising to dietary supplements would be a step towards promoting reason and cost-effectiveness.\n",
      "\n",
      "Note that the text does not explicitly state that the stimulus plan will increase regulation of dietary supplements. Instead, it argues for repealing the DSHEA law and giving the FDA full authority over manufactured substances that purport to promote health or relieve illness.\n",
      "----------------\n",
      "Question : What are 1 in 10 Americans a part of? \n",
      "Real Answers : ['food stamp program']\n",
      "Response : According to the text, one in every three Americans has high triglyceride levels, which elevates risk of heart disease and early death.\n",
      "----------------\n",
      "Question : What do some people say? \n",
      "Real Answers : ['s said she sometimes skips meals so her three children can eat']\n",
      "Response : Some people say that the talk has been downloaded more than 3.5 million times in over 200 countries, and that the number of people who have seen it may be 20 times that or more.\n",
      "----------------\n",
      "Question : What will increase food-stamp funding? \n",
      "Real Answers : [\"e President Obama's economic stimulus pla\"]\n",
      "Response : According to the text, increasing funding for food stamps (SNAP) will be a result of:\n",
      "\n",
      "1. Improving economy: As the economy recovers more robustly, SNAP spending is expected to fall and return nearly to pre-recession levels by 2021.\n",
      "2. Temporary benefit increases expiring: The temporary benefit increases from the 2009 Recovery Act are set to expire, which will also lead to a decrease in SNAP spending.\n",
      "\n",
      "In summary, increased funding for food stamps is not predicted in the near future due to the expected improvement in the economy and the expiration of temporary benefit increases.\n",
      "----------------\n",
      "Question : What CNN correspondent will live on $176 a month? \n",
      "Real Answers : ['Sean Callebs']\n",
      "Response : Based on the text, the CNN correspondent who will live on $176 a month has not been mentioned. The article does not provide any information about a CNN correspondent's salary or living expenses.\n",
      "----------------\n",
      "Question : What can the economic stimulus do? \n",
      "Real Answers : ['l increase food stamp payments']\n",
      "Response : Based on the text, the economic stimulus can:\n",
      "\n",
      "* Help restore confidence in shaky financial markets\n",
      "* Create or save jobs (estimated to be around 2.5-4 million over a 2-3 year period)\n",
      "* Bolster the economy by providing additional taxpayer money if needed\n",
      "\n",
      "Note that these are not necessarily specific outcomes predicted by the economists, but rather general effects of the stimulus package mentioned in the article.\n",
      "----------------\n",
      "Question : Which industry fights mandatory secondary barriers? \n",
      "Real Answers : ['airline']\n",
      "Response : The airline industry fights mandatory secondary barriers. According to the text, \"The airline industry has fought efforts to require the barriers, saying airlines should be allowed to decide for themselves if the barriers would improve security.\"\n",
      "----------------\n"
     ]
    }
   ],
   "source": [
    "num=0\n",
    "for q,a,m in zip(questions,answers,messages):\n",
    "    if num==10:\n",
    "        break\n",
    "    response = chat('llama3', messages=[m])\n",
    "    print(f'Question : {q}')\n",
    "    print(f'Real Answers : {a}')\n",
    "    print(f'Response : {response['message']['content']}')\n",
    "    num+=1\n",
    "    print('----------------')"
   ]
  }
 ],
 "metadata": {
  "kernelspec": {
   "display_name": "Python 3",
   "language": "python",
   "name": "python3"
  },
  "language_info": {
   "codemirror_mode": {
    "name": "ipython",
    "version": 3
   },
   "file_extension": ".py",
   "mimetype": "text/x-python",
   "name": "python",
   "nbconvert_exporter": "python",
   "pygments_lexer": "ipython3",
   "version": "3.12.3"
  }
 },
 "nbformat": 4,
 "nbformat_minor": 2
}
